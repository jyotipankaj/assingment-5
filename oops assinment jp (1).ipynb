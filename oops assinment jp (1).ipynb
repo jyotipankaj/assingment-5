{
 "cells": [
  {
   "cell_type": "code",
   "execution_count": null,
   "id": "4613a32a-f96e-4d0d-a88b-e41959c6ea58",
   "metadata": {},
   "outputs": [],
   "source": [
    " ###Python Oops Questions###"
   ]
  },
  {
   "cell_type": "code",
   "execution_count": null,
   "id": "c906ad15-d92d-4824-8b0e-9631f7c0a19a",
   "metadata": {},
   "outputs": [],
   "source": [
    "Q1. what is object oriented programming (oop)?"
   ]
  },
  {
   "cell_type": "code",
   "execution_count": null,
   "id": "c77a5b34-a2f4-4874-a65b-08a0f174df69",
   "metadata": {},
   "outputs": [],
   "source": [
    "ans."
   ]
  },
  {
   "cell_type": "code",
   "execution_count": null,
   "id": "ca96c827-bb38-46ec-b2ed-df512b50ac35",
   "metadata": {},
   "outputs": [],
   "source": [
    "a class in oop is a blueprint or template that defines objects.\n",
    "it contains attributes (data) and methods (functions) that define the behavior and properties of objects.\n",
    "\n",
    "    a class consists of the following components:\n",
    "1- attributes\n",
    "2- methods\n",
    "3- constructors \n",
    "4- destructors \n",
    "\n",
    "to create an object of a class , we use the class name and specift the object name :\n",
    "object_class = ClassName()\n",
    "\n",
    "now, object_name is an object of the ClassName , and we can access its attributes and methods.\n",
    "    "
   ]
  },
  {
   "cell_type": "code",
   "execution_count": null,
   "id": "b5738647-c650-4a43-81c8-d4c030745899",
   "metadata": {},
   "outputs": [],
   "source": [
    "Q2. what is a class in oop?"
   ]
  },
  {
   "cell_type": "code",
   "execution_count": null,
   "id": "ee256bee-ad3d-4a4e-9516-d5deb6bc14ba",
   "metadata": {},
   "outputs": [],
   "source": [
    "ans."
   ]
  },
  {
   "cell_type": "code",
   "execution_count": null,
   "id": "982f90a1-46a5-4891-b534-277bae3826b2",
   "metadata": {},
   "outputs": [],
   "source": [
    "in oop a class is blueprint or template that defines the properties and behavior of an object.\n",
    "it's a design pattern or a template that defines the characterstics and actions of an object.\n",
    "\n",
    "a class typically includes:\n",
    "\n",
    "1- properties \n",
    "2- methods\n",
    "3- constructors\n",
    "4- destructors\n",
    " a class serves as a template for creating objects that there similar charactistics and behavior . \n",
    "when you create an object from a class, you're said to have created an instance of the class.\n",
    "\n",
    "in summery , aclass in oop is a blueprint or template that defines the properties nd behavior of an object ,\n",
    "and serves as a template for creating multiple objects that share characteristics and behavior.\n",
    "                                                                                                                                     \n",
    "                                        "
   ]
  },
  {
   "cell_type": "code",
   "execution_count": null,
   "id": "bf27f5d7-03a8-49c9-abd1-5d1bf71fe9d2",
   "metadata": {},
   "outputs": [],
   "source": [
    "Q3. what is an object in oop?"
   ]
  },
  {
   "cell_type": "code",
   "execution_count": null,
   "id": "3a60fe21-36c2-457f-a7ab-79c1dcca680d",
   "metadata": {},
   "outputs": [],
   "source": [
    "ans."
   ]
  },
  {
   "cell_type": "code",
   "execution_count": null,
   "id": "64dcf6f8-1815-434e-8614-4a1366ab80b4",
   "metadata": {},
   "outputs": [],
   "source": [
    "in oop an object is an instance of a class, which represents a real - world entity or concept.\n",
    "an object has its own set of attributes and methods that describe and define its behavior.\n",
    "\n",
    "    think of an object as a container that holds data and provides methods to manipulate and interact with that data.\n",
    "just like how a real- world object,such as a car, has its own characteristics and behaciors\n",
    "an object in oop has its own attributes and methods.\n",
    "\n",
    "\n",
    "key of an object in oop:\n",
    "- attributes\n",
    "- methods\n",
    "- identity\n",
    "- state\n",
    "- behavior"
   ]
  },
  {
   "cell_type": "code",
   "execution_count": null,
   "id": "da6e3514-5951-474f-ae16-5bf762d011f5",
   "metadata": {},
   "outputs": [],
   "source": [
    "Q4. what is the difference between abstraction and encapsulation?"
   ]
  },
  {
   "cell_type": "code",
   "execution_count": null,
   "id": "bd86fa8c-3917-48f2-b55c-84988ad9a5dd",
   "metadata": {},
   "outputs": [],
   "source": [
    "ans."
   ]
  },
  {
   "cell_type": "code",
   "execution_count": null,
   "id": "9bde1032-81a3-405c-a592-be9b3b43cb01",
   "metadata": {},
   "outputs": [],
   "source": [
    "Abstraction -\n",
    "- reduce complexity by hiding unnecessary details \n",
    "- improve modularity by spearting concerns \n",
    "- increase flixibility by allowing changes to the internal implementation without affection the external interface\n",
    "\n",
    "Encapsulation:\n",
    "\n",
    "\n",
    "- hide internal data and implementation details from the outside world \n",
    "- protect data from external interference or misuse\n",
    "- improve code organization and reusability."
   ]
  },
  {
   "cell_type": "code",
   "execution_count": null,
   "id": "d3ca6249-fa62-4477-8997-32b2c2dc8f75",
   "metadata": {},
   "outputs": [],
   "source": [
    "Q5. what is dunder methods in python?"
   ]
  },
  {
   "cell_type": "code",
   "execution_count": null,
   "id": "f120c674-9e2e-4b86-8ba4-35566609b14a",
   "metadata": {},
   "outputs": [],
   "source": [
    "ans."
   ]
  },
  {
   "cell_type": "code",
   "execution_count": null,
   "id": "07888507-db31-459e-b81a-44145d8ff8d2",
   "metadata": {},
   "outputs": [],
   "source": [
    "in python , \"dunder\" methods are speciall methods that are surrounded by double underscores  \n",
    "  (i.e., __) on either side of the method name.\n",
    "these methods ar also known as \"magic methods\" or \"special methods.\"\n",
    "\n",
    " dunder methods are used to emulate the behavior of built- in types, such as integers , strings, and lists.\n",
    "they allow you to customize them more intutive and user-friendly.\n",
    "  - __init__\n",
    "-   __str__\n",
    "-   __repr__\n",
    "-   __add__ \n",
    "\n",
    "-   __len__\n",
    "-   __getitem__ \n",
    "-   __setiem__"
   ]
  },
  {
   "cell_type": "code",
   "execution_count": null,
   "id": "93612698-6c6e-42a7-a82e-ee773055956b",
   "metadata": {},
   "outputs": [],
   "source": []
  },
  {
   "cell_type": "code",
   "execution_count": null,
   "id": "1f8c5d65-37d3-4175-90c2-dfd3fd96a763",
   "metadata": {},
   "outputs": [],
   "source": [
    "Q6. explain the concept of inheritance in oop?"
   ]
  },
  {
   "cell_type": "code",
   "execution_count": null,
   "id": "2d29d42f-70e5-4d5f-b58d-4b05e98c878c",
   "metadata": {},
   "outputs": [],
   "source": [
    "ans."
   ]
  },
  {
   "cell_type": "code",
   "execution_count": null,
   "id": "647946f6-4f2d-409c-a674-8a2fc437db5f",
   "metadata": {},
   "outputs": [],
   "source": [
    "Inheritance is fundamental concept in object - orientd programming(oop).\n",
    "that allows one class to inherit the properties and behavior of another class.\n",
    "the  inheriting class, also known as the subclass or derived class, inherits all the fields and methods\n",
    "    of the parent class, also known as the superclass or base class.\n",
    "\n",
    "    key of inheritance :\n",
    "- single inheritance \n",
    "- multiple inheritance \n",
    "- multilevel inheritance \n",
    "- hierachical inheritance\n",
    "\n",
    "\n",
    "class cae (vehicle):\n",
    "    def __init__(self, color, maxSpeed, numDoors):\n",
    "    super().__init__(color, maxSpeed)\n",
    "\n",
    "def oprnTrunk(self):\n",
    "    print(\"Trunk opened\")\n",
    "\n",
    "myCar = Car (\"Red\",120, 4)\n",
    "myCar.startEngine()\n",
    "myCar.accelerate()\n",
    "myCar.openTrunk"
   ]
  },
  {
   "cell_type": "code",
   "execution_count": null,
   "id": "472cdb41-b50e-4b02-92b5-19c59084fe38",
   "metadata": {},
   "outputs": [],
   "source": [
    "Q7. what is polymorphism in oop?\n"
   ]
  },
  {
   "cell_type": "code",
   "execution_count": null,
   "id": "0573fc22-09f6-44a2-90df-10c8fd5cc919",
   "metadata": {},
   "outputs": [],
   "source": [
    "ans. "
   ]
  },
  {
   "cell_type": "code",
   "execution_count": null,
   "id": "4eb0195e-0f77-4261-afe8-6ad2685e6806",
   "metadata": {},
   "outputs": [],
   "source": [
    "polymorphism is a fundamental concept in oop \n",
    "that allows object of a common superclass.\n",
    "in other words, polymorphism enables you to write code that can work with objects of deferent classes.\n",
    "without knowing their specific class type.\n",
    "\n",
    " types of polymorphism:\n",
    "- method overriding\n",
    "- method overloading \n",
    "- operator overloading \n",
    "function polymorphism \n",
    "\n",
    "\n",
    "Benefits of polymorphism:\n",
    " -  increased flexibility\n",
    "- easier maintenance \n",
    "- improved code reusability"
   ]
  },
  {
   "cell_type": "code",
   "execution_count": null,
   "id": "7168ce0a-ccb7-4e57-b802-71571567cacd",
   "metadata": {},
   "outputs": [],
   "source": [
    "Q8. how is encapsulation achieved in python."
   ]
  },
  {
   "cell_type": "code",
   "execution_count": null,
   "id": "46530af7-445b-4f99-8eac-e4132e950506",
   "metadata": {},
   "outputs": [],
   "source": [
    "ans."
   ]
  },
  {
   "cell_type": "code",
   "execution_count": null,
   "id": "48bbcd22-6e4e-4125-b611-cd95fb4c75b3",
   "metadata": {},
   "outputs": [],
   "source": [
    "Encapsulation is achieved in python through the use of classes and objects.\n",
    "here are so,e ways to achieve encapsulation in python:\n",
    "\n",
    "Using classes and Objects \n",
    "\n",
    "in python , classes are used to define custom data types.\n",
    "classes can have attributes and methods .\n",
    "the attributes of a class are encapsulated within the class, and can only be accessed through the \n",
    "methods of the class.\n",
    "\n",
    "\n",
    "    class BankAccount:\n",
    "       def __init__(self,account_number,balance):\n",
    "           self.__account_number = account_number\n",
    "           self.__balance = balance\n",
    "\n",
    "       def get_account_number(self):\n",
    "           return\n",
    "           self.__sccount_number\n",
    "           def get_balance(self):\n",
    "               return self.__balance"
   ]
  },
  {
   "cell_type": "code",
   "execution_count": null,
   "id": "dcfd8df0-859c-4de2-b007-e26dc79f70d8",
   "metadata": {},
   "outputs": [],
   "source": [
    "Q9. what is a constructor in python?\n"
   ]
  },
  {
   "cell_type": "code",
   "execution_count": null,
   "id": "344f804e-0f00-4bc6-a47f-f1cf7ca129b9",
   "metadata": {},
   "outputs": [],
   "source": [
    "ans."
   ]
  },
  {
   "cell_type": "code",
   "execution_count": null,
   "id": "d67b5d66-6c00-4a32-b6a4-e38d6a721dbb",
   "metadata": {},
   "outputs": [],
   "source": [
    "in python a  constructor is a special method that is a automatically called  when an object of a class is created.\n",
    " the constructor is used to initize the attributes of the class and to perform any necessery setup.\n",
    "\n",
    "     in python , the constructor is defined using the __init__ method.\n",
    "this method is called when an object of the class is created , \n",
    "and it is used to initialize the attributes of the class.\n",
    "\n",
    "ex:\n",
    "\n",
    "class person:\n",
    "    def __init__(self, name , age):\n",
    "        self.name = name \n",
    "        self.age = age\n",
    "\n",
    "person = person(\"john\", 30)\n",
    "print(person.name)\n",
    "# output \n",
    "john\n",
    "#output\n",
    "30"
   ]
  },
  {
   "cell_type": "code",
   "execution_count": null,
   "id": "07cbedf9-2a05-46c7-b92e-aba0008d0ff3",
   "metadata": {},
   "outputs": [],
   "source": [
    "Q10. what are class and static methods in python?"
   ]
  },
  {
   "cell_type": "code",
   "execution_count": null,
   "id": "edd68382-5223-4212-aae5-1366e189999c",
   "metadata": {},
   "outputs": [],
   "source": [
    "ans."
   ]
  },
  {
   "cell_type": "code",
   "execution_count": null,
   "id": "0b812011-a79a-4674-9d35-56f86102d8a5",
   "metadata": {},
   "outputs": [],
   "source": [
    "in python , class methods and static methods are two types of methods that can be defined inside a class.\n",
    "\n",
    "class Methods\n",
    "\n",
    "a class method is a method that is bound to the class rather than the instance of the class.\n",
    "it  can  access or modify the class state the class variables.\n",
    "class methods are defined using the @classmethod decorator.\n",
    "\n",
    "\n",
    "static methods\n",
    "\n",
    " a static method is a method that belongs to a class rather than an instance of the class. \n",
    "    static methods do not have access to the class state or the instance state.\n",
    "    they are define using the @staticmethod decorator."
   ]
  },
  {
   "cell_type": "code",
   "execution_count": null,
   "id": "ded260ae-76a1-4158-b771-6a605f39221b",
   "metadata": {},
   "outputs": [],
   "source": []
  },
  {
   "cell_type": "code",
   "execution_count": null,
   "id": "18c71239-dead-4690-81e8-89619dbff4cf",
   "metadata": {},
   "outputs": [],
   "source": [
    "Q11. what is method overloading in python?"
   ]
  },
  {
   "cell_type": "code",
   "execution_count": null,
   "id": "b787d16b-289a-4182-82c8-edeab6052c33",
   "metadata": {},
   "outputs": [],
   "source": [
    "ans."
   ]
  },
  {
   "cell_type": "code",
   "execution_count": null,
   "id": "99cbc537-c506-4c72-9df0-85df53abf2b7",
   "metadata": {},
   "outputs": [],
   "source": [
    "method overloading is feature in some programming languages that allows multiple methods with the\n",
    "same name to be defined, but with different parameter lists.\n",
    "however , python does not support method overloading in the classical sense.\n",
    "\n",
    "in python, of you define multiple methods with the same name,\n",
    "the last defination will override all previous definitions.\n",
    "this is bcz python does not support method overloading in the same way that languages like java or c++ do.\n",
    "\n",
    "def greet(name, msg= \"hello\"):\n",
    "    print (f\"{msg} {name}\n",
    "\n",
    "    greet( \"john\")\n",
    "           #output hello john\n",
    "\n",
    "           greet(\"john, \"hi\") \n",
    "           #output  hi john"
   ]
  },
  {
   "cell_type": "code",
   "execution_count": null,
   "id": "265b73b8-7bcf-4b3a-81fe-932f231a7ecf",
   "metadata": {},
   "outputs": [],
   "source": [
    "Q12. what is method overriding in oop?"
   ]
  },
  {
   "cell_type": "code",
   "execution_count": null,
   "id": "9ceccb06-1f55-42da-893f-c54fa854745b",
   "metadata": {},
   "outputs": [],
   "source": [
    "ans."
   ]
  },
  {
   "cell_type": "code",
   "execution_count": null,
   "id": "80c4f971-f2ac-43c2-b4a2-72be599a283e",
   "metadata": {},
   "outputs": [],
   "source": [
    "method overriding is a fundamental concept in object-oriented programming that allows a subclass \n",
    "to provide a specific implementation for a method that is already defined in its superclass.\n",
    "\n",
    "in method overriding the subclass method has the same name, return type,and  parameter list as the superclass method .\n",
    "but it can have a different implementation.\n",
    "when a subclass overrides  a method , it provides a new implementation for that method,\n",
    "which is specific to the subclass.\n",
    "\n",
    "\n",
    "    class Animal:\n",
    "def sound (self):\n",
    "    print(\"the animal makes a sound .\")\n",
    "    class Dog(Animal):\n",
    "        def sound(self):\n",
    "            print(\"the dog barks.\")\n",
    "\n",
    "my_dog = dog()\n",
    "my_dog.sound()\n",
    "#output:\n",
    "the dog barks."
   ]
  },
  {
   "cell_type": "code",
   "execution_count": null,
   "id": "852eccd9-f466-4feb-9a0a-a8c79c695009",
   "metadata": {},
   "outputs": [],
   "source": [
    "Q13. what is a property decorator in python?\n"
   ]
  },
  {
   "cell_type": "code",
   "execution_count": null,
   "id": "8ca8265a-59e8-4a0d-9369-5e66e520c984",
   "metadata": {},
   "outputs": [],
   "source": [
    "ans."
   ]
  },
  {
   "cell_type": "code",
   "execution_count": null,
   "id": "98e374be-25df-44cf-979e-e56043133db3",
   "metadata": {},
   "outputs": [],
   "source": [
    "in python , a property decorator is a special type of decorator that allows you to implement getters,setters,\n",
    "and deleters for instance variables.\n",
    "it provides a way to customize access to instance variables, making it easier to manage and validate data.\n",
    "\n",
    "the @property decorator is used to  define a getter method for an instance variable .\n",
    "the getter method is called when the instance variable is accessed.\n",
    "\n",
    "ex- \n",
    "\n",
    "class person:\n",
    "    def __init__ (self, name):\n",
    "        self._name = name \n",
    "    @property\n",
    "    def name(self):\n",
    "        return self._name\n",
    "\n",
    "    @name.setter\n",
    "    def name (self, value):\n",
    "        self._name = value"
   ]
  },
  {
   "cell_type": "code",
   "execution_count": null,
   "id": "b837e78b-31f4-4b15-b32a-14cacd1d79f3",
   "metadata": {},
   "outputs": [],
   "source": [
    "Q14. why is polymorphism  important in oop?"
   ]
  },
  {
   "cell_type": "code",
   "execution_count": null,
   "id": "718242b3-b3cb-4622-96c1-e027d8e838bc",
   "metadata": {},
   "outputs": [],
   "source": [
    "ans."
   ]
  },
  {
   "cell_type": "code",
   "execution_count": null,
   "id": "8c6d006e-a185-4a75-89da-2560c97f0a25",
   "metadata": {},
   "outputs": [],
   "source": [
    "polymorphism is a fundamental concept in oop\n",
    "that allows objects of different classes to be treated as objects of a common superclass.\n",
    "this is important for several reasons:\n",
    "\n",
    "- increased flexibility\n",
    "- easier maintenance\n",
    "- improved code reusability\n",
    "- more realistic modeling of real - world objects\n",
    "- cetter error handling\n",
    "- simplified code\n",
    "- improved scalability"
   ]
  },
  {
   "cell_type": "code",
   "execution_count": null,
   "id": "44b813e8-9a38-48da-8c2f-fa83adad5df4",
   "metadata": {},
   "outputs": [],
   "source": [
    "Q15. what is an abstract class in python?"
   ]
  },
  {
   "cell_type": "code",
   "execution_count": null,
   "id": "671f7bde-8d18-44fb-b653-c34d68058bfe",
   "metadata": {},
   "outputs": [],
   "source": [
    "ans."
   ]
  },
  {
   "cell_type": "code",
   "execution_count": null,
   "id": "e36d2bd1-2165-44dc-9a7b-a106be5f74db",
   "metadata": {},
   "outputs": [],
   "source": [
    "in python, an abstract class is a class that cannot be instatantited on its own and is designed to be \n",
    "inherited by other classses.\n",
    "abstract classes are used to define a blueprint for other classes to follow, and they typically contain one or more abstract methods.\n",
    "\n",
    "an abstract method is a method is a method that is declared but not implemented.\n",
    "it is intended to be implemented by any class that inherits from the abstract class.\n",
    "\n",
    "key of an abstract class in python-\n",
    "\n",
    "- cannot be instantaiated \n",
    "- designed to be inherited\n",
    "- contains abstract methods\n",
    "- abstract methods must be implemented\n",
    "\n",
    "abstract classes are useful when you want to define a common interface or base class for a group of related classes,\n",
    "but you don't want to allow instantation of the base class itself."
   ]
  },
  {
   "cell_type": "code",
   "execution_count": null,
   "id": "11c5b12a-e610-4adf-adb8-0562c45be249",
   "metadata": {},
   "outputs": [],
   "source": [
    "Q16. what are the advantages of oops?"
   ]
  },
  {
   "cell_type": "code",
   "execution_count": null,
   "id": "e531a952-ead3-43cc-9e25-e63d0cba586a",
   "metadata": {},
   "outputs": [],
   "source": [
    "ans."
   ]
  },
  {
   "cell_type": "code",
   "execution_count": null,
   "id": "e8b073a9-2e8a-4c83-8b3c-73795c8bde05",
   "metadata": {},
   "outputs": [],
   "source": [
    "oop has several advantages that make it a popular and widely-used programming paradigm.\n",
    "here are some of the main advantages of oop:\n",
    "\n",
    " advantages of oop\n",
    "\n",
    "- modularity\n",
    "- code reusabilty\n",
    "- easier maiintenance\n",
    "- improved readability \n",
    "- enhanced security\n",
    "- better organization\n",
    "- improved scalability\n",
    "- reduced complexity\n",
    "- easier debugging\n",
    "-improved collaboration\n",
    "\n",
    "overall, oop provides a powerful abd flexible framework for building complex software systems, and its advantages make\n",
    "it a popular choice among developers."
   ]
  },
  {
   "cell_type": "code",
   "execution_count": null,
   "id": "9c195dfe-83a8-439a-a275-1f111441fa58",
   "metadata": {},
   "outputs": [],
   "source": [
    "Q17. what is the difference between a class variable and an instance variable?"
   ]
  },
  {
   "cell_type": "code",
   "execution_count": null,
   "id": "f659b8a9-0771-460b-aa95-d02646afa76f",
   "metadata": {},
   "outputs": [],
   "source": [
    "ans."
   ]
  },
  {
   "cell_type": "code",
   "execution_count": null,
   "id": "1481b36c-960e-4e34-9850-09145c42707b",
   "metadata": {},
   "outputs": [],
   "source": [
    "in oop a class variable and an instance variable are two types of variables that are used to store data in a class.\n",
    "the main difference between them is their scope and usage.\n",
    "\n",
    "    class variable:\n",
    "\n",
    "a class variable is a variable that s shared by all instances of a class.\n",
    "    it is defined inside the class definition , but outside any instance method.\n",
    "    class variables are also known as staic variables. \n",
    "\n",
    "    key of class variables:\n",
    "    - shared by all instances\n",
    "    - defined inside the class definition\n",
    "    - static \n",
    "    - accessed using the class name\n",
    "\n",
    "\n",
    "    instance variable:\n",
    "     an instance variable is a variable that is unique to each instance of a class.\n",
    "     it is defined inside an instance method or in the __init__ method of the class.\n",
    "\n",
    "    key of class variables:\n",
    "    - unique to each instance \n",
    "    - define insude an instance method or __init__ method\n",
    "    - dynamic\n",
    "    - accessed using an instance of the class"
   ]
  },
  {
   "cell_type": "code",
   "execution_count": null,
   "id": "1c4b9afb-a0ec-4c47-9567-a857cfcc19fd",
   "metadata": {},
   "outputs": [],
   "source": [
    "Q18. what is multiple inheritance in python?"
   ]
  },
  {
   "cell_type": "code",
   "execution_count": null,
   "id": "3e9c7cc5-6903-4374-b89a-8ea78c2ce707",
   "metadata": {},
   "outputs": [],
   "source": [
    "ans."
   ]
  },
  {
   "cell_type": "code",
   "execution_count": null,
   "id": "fa3aa50b-d6ef-4fce-b870-8dc98bb54136",
   "metadata": {},
   "outputs": [],
   "source": [
    "multiple inheritance in python is a feature that allows a class to inherit properties and methods\n",
    "from more than one parent class.\n",
    " this means that a child class can inheit attributes and methods from multiple parent classes,\n",
    "allowing for more complex and nuanced relationships between classes.\n",
    "\n",
    "    - method resolution order\n",
    "    - diamond problem\n",
    "\n",
    "    to avoid the diamond problem , you can use  a consistent naming convention , avoid multiplr inheritance when\n",
    "possible, and use abstract base classes to define interfaces."
   ]
  },
  {
   "cell_type": "code",
   "execution_count": null,
   "id": "3e3b8132-3176-4b59-a64d-020ad36dc4e0",
   "metadata": {},
   "outputs": [],
   "source": [
    "Q19. explain the purpose of \"_str_\" and \"_repr_\" method in python?"
   ]
  },
  {
   "cell_type": "code",
   "execution_count": null,
   "id": "e4276ceb-9bce-4320-a437-2a6e6bc0a192",
   "metadata": {},
   "outputs": [],
   "source": [
    "ans. in python , the __str__ and __repr__ methods are special methods that are used to provide a string representation of an object.\n",
    "these methods are useful for debugging,logging, and desplaying information about objects.\n",
    "__str__ methods:\n",
    "\n",
    " the __str__ method is used to provide a human readable string representation of an object.\n",
    "this method is called when you use the str() function or the print() function on an object.\n",
    "\n",
    "the purpose of the  __str__ method is to provide a concise and informative string representation of an object,\n",
    "which can be used for:\n",
    "\n",
    "- displaying information about an object\n",
    "- logging object information\n",
    "- debugging\n",
    "\n",
    " __repr__ method:\n",
    "\n",
    "the  __repr__ method is used to provide a string representation of an object that is useful for debugging and logging.\n",
    "this method is called when ou use the repr() function on an object.\n",
    "\n",
    "the purpose of the __repr__ method is to provide a detailed and unamiguous string representation of an object,\n",
    "which can be used for:\n",
    "- debugging\n",
    "- logging object information\n",
    "- serializing objects"
   ]
  },
  {
   "cell_type": "code",
   "execution_count": null,
   "id": "8a4befdc-4071-40ae-b9de-670d1ee8b1f7",
   "metadata": {},
   "outputs": [],
   "source": [
    "Q20. what is the significance of the 'super()' function in python?"
   ]
  },
  {
   "cell_type": "code",
   "execution_count": null,
   "id": "068066fe-7f2b-4805-b7ce-f520370c9714",
   "metadata": {},
   "outputs": [],
   "source": [
    "ans."
   ]
  },
  {
   "cell_type": "code",
   "execution_count": null,
   "id": "2a552c15-062d-4c72-9b3e-99cf4950bd28",
   "metadata": {},
   "outputs": [],
   "source": [
    "in python , the super() function is used to access the methods and properties of a parent class \n",
    "from a child class.\n",
    "\n",
    "the super() function is significant bcz it allows you to:\n",
    "- override methods\n",
    "- extend behavior\n",
    "- access parent class attributes\n",
    "\n",
    "using super() instead of hardcoding the parent class name has seveal benefits:\n",
    "\n",
    "- flexibility\n",
    "- readability\n",
    "- maintainability \n",
    "\n",
    "in summery , super() is a powerful tool in python that allows you to access and extend the  behavior of parent classes from\n",
    "child classes, making your code more flexible,readable, and maintainable."
   ]
  },
  {
   "cell_type": "code",
   "execution_count": null,
   "id": "841ef9ed-fcc1-48c4-991c-6b695d9da893",
   "metadata": {},
   "outputs": [],
   "source": [
    "Q21. what is the significance of the  __del__ method in python?"
   ]
  },
  {
   "cell_type": "code",
   "execution_count": null,
   "id": "ecfe4e7c-6bbf-4a3d-8cbd-d46f3119a88d",
   "metadata": {},
   "outputs": [],
   "source": [
    "ans."
   ]
  },
  {
   "cell_type": "code",
   "execution_count": null,
   "id": "60495234-a81a-4077-8468-8f78d4334fa8",
   "metadata": {},
   "outputs": [],
   "source": [
    "in python, the __del__ method is a special method that is automatically called when an object\n",
    "is about to be destroyed.\n",
    "this method is alos known as the destructor or finalizer.\n",
    "\n",
    "__del__ method is that allows you to:\n",
    "- release resources \n",
    "- clean up\n",
    "- perform finalization \n",
    "\n",
    "ex- \n",
    "\n",
    "class MyClass:\n",
    "    def __init__(self): \n",
    "       self.file_handle = open(\"example.text\", \"w\")\n",
    "def __del__(self):\n",
    "    self.file_handle.close()\n",
    "    print (\"file handle closed\")\n",
    "    obj = MyClass()\n",
    "    #...\n",
    "    del obj # __del__ method is called automatically\n",
    "\n",
    "in this example , the __del__ method is used to close the file handle when the ovject is destroyed."
   ]
  },
  {
   "cell_type": "code",
   "execution_count": null,
   "id": "f2b7c23d-61fb-4365-aa58-cb2399856be4",
   "metadata": {},
   "outputs": [],
   "source": [
    "Q22. what is the difference between @staticmethod and @classmethod in python?"
   ]
  },
  {
   "cell_type": "code",
   "execution_count": null,
   "id": "74c58c4b-016a-4833-b086-0bfac17870c2",
   "metadata": {},
   "outputs": [],
   "source": [
    "ans."
   ]
  },
  {
   "cell_type": "code",
   "execution_count": null,
   "id": "c8ac40c6-f6fe-46b8-acab-f8ef7057df92",
   "metadata": {},
   "outputs": [],
   "source": [
    "in python , @staticmethod and @classmethod are two type of decorators that can be used to define methods in a class.\n",
    "the main difference between them is the way are bound to the class nd its instances.\n",
    "\n",
    "@staticmethod:\n",
    " - it is not bound to the class or its instances.\n",
    "- it does not have access to the class's attibutes or  instance variable.\n",
    "- it is essentially a regular function that happens to be defined insude a class.\n",
    "\n",
    "@classmethod\n",
    "\n",
    "- it is bouns to the class .\n",
    "- it has access to the class's attributes.\n",
    "- it receives the class as an implicit first argument,\n",
    "which is conventionally named cls."
   ]
  },
  {
   "cell_type": "code",
   "execution_count": null,
   "id": "148211d0-d0d5-4938-8dfd-adf3fc688c16",
   "metadata": {},
   "outputs": [],
   "source": [
    "Q23. how does polymorphism work in python with inheritance?"
   ]
  },
  {
   "cell_type": "code",
   "execution_count": null,
   "id": "b7b02a0e-a5f1-413c-b4b2-8169c8497e5a",
   "metadata": {},
   "outputs": [],
   "source": [
    "ans. "
   ]
  },
  {
   "cell_type": "code",
   "execution_count": null,
   "id": "b13741de-1d97-4811-8b98-64a6061f2e43",
   "metadata": {},
   "outputs": [],
   "source": [
    "polymorphism is a fundamental concept in oop that allows objects of different classes to be \n",
    "treated as objects of a common superclass. \n",
    "in python , polymorphism is achieved  through inheritance , method overriding, and method overloading.\n",
    "\n",
    "    ex:\n",
    " class Animal:\n",
    "     def sound(self):\n",
    "         print(\"the animal makes a sound.\")\n",
    "\n",
    " class Dog(Animal):\n",
    "     def sound(self):\n",
    "         print(\"the dog barks.\")\n",
    "\n",
    " class Cat(Animal):\n",
    "     def sound(self):\n",
    "         print(\"the cat meows.\")\n",
    "\n",
    " def make_sound(animal: Animal):\n",
    "\n",
    "     dog = Dog()\n",
    "     cat = Cat()\n",
    "\n",
    "make_sound(dog) \n",
    "#output: the dog barks.\n",
    "make_sound(cat)\n",
    "#output: the cat meows."
   ]
  },
  {
   "cell_type": "code",
   "execution_count": null,
   "id": "6372e20a-cf14-4e72-949a-ffd427799d0d",
   "metadata": {},
   "outputs": [],
   "source": []
  },
  {
   "cell_type": "code",
   "execution_count": null,
   "id": "1577d555-887b-41a3-a1ff-205315163463",
   "metadata": {},
   "outputs": [],
   "source": [
    "Q24. what is method chaining in python oop?"
   ]
  },
  {
   "cell_type": "code",
   "execution_count": null,
   "id": "7c1eaeeb-c059-4abf-bba2-7055ca24203f",
   "metadata": {},
   "outputs": [],
   "source": [
    "ans."
   ]
  },
  {
   "cell_type": "code",
   "execution_count": null,
   "id": "5634675b-59f2-4a98-979f-b82f8646a9af",
   "metadata": {},
   "outputs": [],
   "source": [
    "method cahining is a technique in python oop where multiple methods ae calles on an object\n",
    "is a single methods are called on an object in a sigle line of code,\n",
    "with each method returning the object itself.\n",
    "this allows you to perform a series of operations on an object in a concise and readable way. \n",
    "\n",
    "method chaining benefits:\n",
    "- concise code\n",
    "- improved readability\n",
    "- reduced boilerplate code\n",
    "\n",
    "to use method chaining :\n",
    "\n",
    "- return the object itself\n",
    "- keep methods short and simple \n",
    "- use meaningful method names"
   ]
  },
  {
   "cell_type": "code",
   "execution_count": null,
   "id": "68b26418-b538-4ae1-ae80-62b5fff27343",
   "metadata": {},
   "outputs": [],
   "source": [
    "Q25. what is the purpose of the __call__ method in python?"
   ]
  },
  {
   "cell_type": "code",
   "execution_count": null,
   "id": "669503ac-2cf6-437e-ab06-05307cf710dc",
   "metadata": {},
   "outputs": [],
   "source": [
    "ans."
   ]
  },
  {
   "cell_type": "code",
   "execution_count": null,
   "id": "a2720c31-41d2-40e6-8e1e-cc102808f81f",
   "metadata": {},
   "outputs": [],
   "source": [
    "the purpose of the __cell__ method is to enable an object to behave like a function, \n",
    "allowing it to be invoked with  arguments and return a value.\n",
    " this is useful in a verity of situations, such as:\n",
    "\n",
    "- creating function- like objects\n",
    "- implementing decorators\n",
    "- creating closures\n",
    "- implementing abstract base classes\n",
    "\n",
    "ex-\n",
    "\n",
    "class Adder:\n",
    "    def __init__(self, value):\n",
    "        self.value = value\n",
    "\n",
    "    def __call__(self, x):\n",
    "        return self.value + x\n",
    "\n",
    "adder = adder (5)\n",
    "result = adder(3)\n",
    "#equivalent \n",
    "to adder.__call__(3)\n",
    "print(result)\n",
    "#output: 8"
   ]
  },
  {
   "cell_type": "code",
   "execution_count": null,
   "id": "7c255dfc-f485-4cdc-a2ed-c57ae26c4c14",
   "metadata": {},
   "outputs": [],
   "source": []
  },
  {
   "cell_type": "code",
   "execution_count": null,
   "id": "77af7681-3c01-4d82-852a-d6d553294a2d",
   "metadata": {},
   "outputs": [],
   "source": [
    "**** Practical Question ****"
   ]
  },
  {
   "cell_type": "code",
   "execution_count": null,
   "id": "bf971b35-8a5d-46a0-9df5-7da74f57a5b5",
   "metadata": {},
   "outputs": [],
   "source": []
  },
  {
   "cell_type": "raw",
   "id": "2c857282-8ac2-4d1c-9108-6a31f4cd208b",
   "metadata": {},
   "source": [
    "Q1. create a parent class animal with a method speak() that prints a generic message.\n",
    "create a child class dog that overrides the speak() method to print \"bark!\""
   ]
  },
  {
   "cell_type": "code",
   "execution_count": null,
   "id": "9847ee58-0ddb-40bc-b824-984caf5cef57",
   "metadata": {},
   "outputs": [],
   "source": [
    "ans."
   ]
  },
  {
   "cell_type": "code",
   "execution_count": 8,
   "id": "e2b82085-6ead-461d-8529-29fae7907deb",
   "metadata": {},
   "outputs": [],
   "source": [
    "class animal:\n",
    "    def speak(self):\n",
    "        print(\"the animal amke a sound.\")\n",
    "\n",
    "class dog(animal):\n",
    "    def speak(self):\n",
    "        print(\"bark!\")"
   ]
  },
  {
   "cell_type": "code",
   "execution_count": 11,
   "id": "e2a64112-4d91-4749-801b-f4cf4516411b",
   "metadata": {},
   "outputs": [],
   "source": [
    "my_dog = dog()"
   ]
  },
  {
   "cell_type": "code",
   "execution_count": 12,
   "id": "3af39b19-170c-45c0-bffe-7ce608e47765",
   "metadata": {},
   "outputs": [
    {
     "name": "stdout",
     "output_type": "stream",
     "text": [
      "bark!\n"
     ]
    }
   ],
   "source": [
    "my_dog.speak()"
   ]
  },
  {
   "cell_type": "code",
   "execution_count": 14,
   "id": "942ece0b-9377-469f-868d-8e5376e50d65",
   "metadata": {},
   "outputs": [],
   "source": [
    "my_animal = animal()"
   ]
  },
  {
   "cell_type": "code",
   "execution_count": 16,
   "id": "6563ae71-27a2-4eb6-964a-25e97bf64d5c",
   "metadata": {},
   "outputs": [
    {
     "name": "stdout",
     "output_type": "stream",
     "text": [
      "the animal amke a sound.\n"
     ]
    }
   ],
   "source": [
    "my_animal.speak()"
   ]
  },
  {
   "cell_type": "code",
   "execution_count": null,
   "id": "11e5c1fc-d221-4edc-aee0-ac7251a20686",
   "metadata": {},
   "outputs": [],
   "source": []
  },
  {
   "cell_type": "code",
   "execution_count": null,
   "id": "732eab32-72a7-4710-a5ec-edcc02d06351",
   "metadata": {},
   "outputs": [],
   "source": [
    "Q2. write a program to create an abstract class shape with a method area(). derive classes circle and rectangle from\n",
    "it and implement the area() method in both."
   ]
  },
  {
   "cell_type": "code",
   "execution_count": null,
   "id": "674a0cb6-d899-4e50-8832-08920978b1ae",
   "metadata": {},
   "outputs": [],
   "source": [
    "ans."
   ]
  },
  {
   "cell_type": "code",
   "execution_count": 17,
   "id": "bac06e83-4c22-4b6a-950f-bb31e1ae22a7",
   "metadata": {},
   "outputs": [],
   "source": [
    "from abc import ABC , abstractmethod\n",
    "\n",
    "class Shape(ABC):\n",
    "    @abstractmethod\n",
    "    def calculate_area(self):\n",
    "        pass\n",
    "\n",
    "class rectangle(Shape):\n",
    "    def calculate_area(self):\n",
    "        return \"area of ractangle is len*breath\"\n",
    "\n",
    "class circle(Shape):\n",
    "    def calculate_area(self):\n",
    "        return \"are of circle is pi **2\""
   ]
  },
  {
   "cell_type": "code",
   "execution_count": 18,
   "id": "1eb3789b-35c0-4c07-9a40-a893ca7baa74",
   "metadata": {},
   "outputs": [
    {
     "data": {
      "text/plain": [
       "'area of ractangle is len*breath'"
      ]
     },
     "execution_count": 18,
     "metadata": {},
     "output_type": "execute_result"
    }
   ],
   "source": [
    "rect = rectangle()\n",
    "rect.calculate_area()"
   ]
  },
  {
   "cell_type": "code",
   "execution_count": 19,
   "id": "e22d324d-510c-4a4e-8198-106e6cd39b04",
   "metadata": {},
   "outputs": [
    {
     "data": {
      "text/plain": [
       "'are of circle is pi **2'"
      ]
     },
     "execution_count": 19,
     "metadata": {},
     "output_type": "execute_result"
    }
   ],
   "source": [
    "c = circle()\n",
    "c.calculate_area()"
   ]
  },
  {
   "cell_type": "code",
   "execution_count": null,
   "id": "75ebf62c-bbbb-4858-9345-08ea828ef533",
   "metadata": {},
   "outputs": [],
   "source": []
  },
  {
   "cell_type": "code",
   "execution_count": null,
   "id": "c3cbcf66-2efd-4861-8c98-b409c4b8241f",
   "metadata": {},
   "outputs": [],
   "source": [
    "Q3. implement a multi-level inheritance scenario where a class vehical has an attribute type. derive a class car and futher\n",
    "derive a class electricCar that adds a battery attribute."
   ]
  },
  {
   "cell_type": "code",
   "execution_count": null,
   "id": "2000f3df-23cb-44ea-bb9a-c3fefd662684",
   "metadata": {},
   "outputs": [],
   "source": [
    "ans."
   ]
  },
  {
   "cell_type": "code",
   "execution_count": 20,
   "id": "3c6deab7-e5b0-4475-83f3-20c2a730c865",
   "metadata": {},
   "outputs": [],
   "source": [
    "class vehicle:\n",
    "    def info(self):\n",
    "        print(\"this is vehicle\")\n",
    "\n",
    "class car(vehicle):\n",
    "    def car_info(self ,name):\n",
    "        print(\"this is car info\",name)\n",
    "\n",
    "class electriccar(car):\n",
    "    def electriccar_info(self, type, brand, model, battery_capacity):\n",
    "        print(\"this is electriccar\",type, brand, model, battery_capacity)"
   ]
  },
  {
   "cell_type": "code",
   "execution_count": 21,
   "id": "d83d7c66-67a0-43fa-a70b-de9d12613b65",
   "metadata": {},
   "outputs": [
    {
     "name": "stdout",
     "output_type": "stream",
     "text": [
      "this is vehicle\n"
     ]
    }
   ],
   "source": [
    "c1 = car()\n",
    "c1.info()"
   ]
  },
  {
   "cell_type": "code",
   "execution_count": 22,
   "id": "bd24c38f-cd63-4a9f-b88d-4ec2e040b0d4",
   "metadata": {},
   "outputs": [
    {
     "name": "stdout",
     "output_type": "stream",
     "text": [
      "this is car info bmw\n"
     ]
    }
   ],
   "source": [
    "c1.car_info(\"bmw\")"
   ]
  },
  {
   "cell_type": "code",
   "execution_count": 23,
   "id": "279457fc-0f7e-4f4a-97e3-35c54747122c",
   "metadata": {},
   "outputs": [
    {
     "name": "stdout",
     "output_type": "stream",
     "text": [
      "this is electriccar electric tesla model s 100\n"
     ]
    }
   ],
   "source": [
    "c2 = electriccar()\n",
    "c2.electriccar_info(\"electric\", \"tesla\", \"model s\", 100)"
   ]
  },
  {
   "cell_type": "code",
   "execution_count": null,
   "id": "65f45d22-7fcf-42d9-a8f0-2724f8568a4b",
   "metadata": {},
   "outputs": [],
   "source": []
  },
  {
   "cell_type": "code",
   "execution_count": null,
   "id": "8bfa0d55-2445-42e1-9cb4-a5e28c47d77f",
   "metadata": {},
   "outputs": [],
   "source": []
  },
  {
   "cell_type": "code",
   "execution_count": null,
   "id": "cff3d0c9-e1b1-4808-9643-73986b68c782",
   "metadata": {},
   "outputs": [],
   "source": [
    "Q4. implement a multi-level inheritance scenario where a class vehical has an attribute type. derive a class car and futher\n",
    "derive a class electricCar that adds a battery attribute."
   ]
  },
  {
   "cell_type": "code",
   "execution_count": null,
   "id": "816ff455-8e3e-4322-b31b-41f185c09113",
   "metadata": {},
   "outputs": [],
   "source": [
    "ans."
   ]
  },
  {
   "cell_type": "code",
   "execution_count": 20,
   "id": "0f143461-34e5-441e-840b-f48c3b2b5c0e",
   "metadata": {},
   "outputs": [],
   "source": [
    "class vehicle:\n",
    "    def info(self):\n",
    "        print(\"this is vehicle\")\n",
    "\n",
    "class car(vehicle):\n",
    "    def car_info(self ,name):\n",
    "        print(\"this is car info\",name)\n",
    "\n",
    "class electriccar(car):\n",
    "    def electriccar_info(self, type, brand, model, battery_capacity):\n",
    "        print(\"this is electriccar\",type, brand, model, battery_capacity)"
   ]
  },
  {
   "cell_type": "code",
   "execution_count": null,
   "id": "8f91b65c-1fe2-49a1-be3a-6d5954ff3c04",
   "metadata": {},
   "outputs": [],
   "source": [
    "Q5. write a program to demonstrate encapsulation by creating a class bankaccount with private attributes balance\n",
    "and methods to deposit, withdraw, and check balance."
   ]
  },
  {
   "cell_type": "code",
   "execution_count": null,
   "id": "4855cbf5-bcd2-4af3-baa6-6a86939affb9",
   "metadata": {},
   "outputs": [],
   "source": [
    "ans."
   ]
  },
  {
   "cell_type": "code",
   "execution_count": 29,
   "id": "51d0de35-3956-4208-b8ab-1b0009a9c5f8",
   "metadata": {},
   "outputs": [
    {
     "name": "stdout",
     "output_type": "stream",
     "text": [
      "Deposited ₹500 to your account no. xxxx69 successfully!!. \n",
      "->New balance: ₹1500\n",
      "withdrew ₹200 from your account no. xxxx69 successfully!!. \n",
      "->New balance: ₹1300\n",
      "Oops!! Invalid withdrawal amount or insufficient funds. Your Currentbalance is ₹1300\n"
     ]
    }
   ],
   "source": [
    "class BankAccount:\n",
    "    def __init__(self, initial_balance=0):\n",
    "        self.__balance = initial_balance\n",
    "\n",
    "\n",
    "    def deposite(self, amount):\n",
    "        if amount > 0:\n",
    "            self.__balance += amount\n",
    "            print(f\"Deposited ₹{amount} to your account no. xxxx69 successfully!!. \\n->New balance: ₹{self.__balance}\")\n",
    "        else:\n",
    "            print(\"Invalid deposit amount.\")\n",
    "\n",
    "    def withdraw(self, amount):\n",
    "        if 0 < amount <= self.__balance:\n",
    "            self.__balance -= amount\n",
    "            print(f\"withdrew ₹{amount} from your account no. xxxx69 successfully!!. \\n->New balance: ₹{self.__balance}\")\n",
    "        else:\n",
    "            print(f\"Oops!! Invalid withdrawal amount or insufficient funds. Your Currentbalance is ₹{self.__balance}\")\n",
    "\n",
    "    def check_balance(self):\n",
    "        print(f\"-->Current balance: ₹{self.__balance}\")\n",
    "\n",
    "account = BankAccount(1000)\n",
    "account.deposite(500)\n",
    "account.withdraw(200)\n",
    "#i'm writing another withdraw in case of insufficent balance\n",
    "account.withdraw(1550)"
   ]
  },
  {
   "cell_type": "code",
   "execution_count": null,
   "id": "16c7b847-79d9-4ffd-9c8c-65f924716906",
   "metadata": {},
   "outputs": [],
   "source": []
  },
  {
   "cell_type": "code",
   "execution_count": null,
   "id": "6b126323-34de-48e9-9f39-0191073766e6",
   "metadata": {},
   "outputs": [],
   "source": [
    "Q6. demonstrate runtime polymorphism using a method play() in a base class instrument.\n",
    "derive classes guitar and piano that implement their own version of play()."
   ]
  },
  {
   "cell_type": "code",
   "execution_count": null,
   "id": "0aec0226-ac38-4b10-abda-76bd05825f54",
   "metadata": {},
   "outputs": [],
   "source": [
    "ans."
   ]
  },
  {
   "cell_type": "code",
   "execution_count": 30,
   "id": "75a0568b-24b3-47a5-bcf7-713d0ecfd096",
   "metadata": {},
   "outputs": [],
   "source": [
    "class instruments:\n",
    "    def play(self):\n",
    "        pass\n",
    "\n",
    "class guitar(instruments):\n",
    "    def play(self):\n",
    "        print(\"playing the guitar...strumming the strings!\")\n",
    "\n",
    "class piano(instruments):\n",
    "    def play(self):\n",
    "        print(\"playing the piano...pressing the keys!\")"
   ]
  },
  {
   "cell_type": "code",
   "execution_count": 31,
   "id": "9dc23b91-3484-485a-8fa2-8175ce0734ac",
   "metadata": {},
   "outputs": [],
   "source": [
    "instruments = [guitar(), piano()]"
   ]
  },
  {
   "cell_type": "code",
   "execution_count": 32,
   "id": "8e2666db-fde3-4918-b079-100f95a268d1",
   "metadata": {},
   "outputs": [
    {
     "name": "stdout",
     "output_type": "stream",
     "text": [
      "playing the guitar...strumming the strings!\n",
      "playing the piano...pressing the keys!\n"
     ]
    }
   ],
   "source": [
    "for i in instruments:\n",
    "    i.play()"
   ]
  },
  {
   "cell_type": "code",
   "execution_count": null,
   "id": "8ae8d311-d45c-4475-be19-f469c23c1ab2",
   "metadata": {},
   "outputs": [],
   "source": [
    "Q7. create a class mathOperations with a class method add_numbers() to add two numbers and a static method substract_numbers()\n",
    "to subtract two numbers."
   ]
  },
  {
   "cell_type": "code",
   "execution_count": null,
   "id": "e5662fbc-12c4-43fe-be53-3b3e9f7b0a9c",
   "metadata": {},
   "outputs": [],
   "source": [
    "ans."
   ]
  },
  {
   "cell_type": "code",
   "execution_count": 33,
   "id": "586c6605-0661-4080-bb7f-187340b19578",
   "metadata": {},
   "outputs": [],
   "source": [
    "class mathOperation:\n",
    "    @classmethod\n",
    "    def add_numbers(cls, num1, num2):\n",
    "        return num1 + num2\n",
    "\n",
    "    @staticmethod\n",
    "    def subtract_numbers(num1,num2):\n",
    "        return num1 - num2"
   ]
  },
  {
   "cell_type": "code",
   "execution_count": 34,
   "id": "c001b29d-49ef-448a-b943-db1b6767586a",
   "metadata": {},
   "outputs": [
    {
     "name": "stdout",
     "output_type": "stream",
     "text": [
      "adding numbers using class method: 15\n"
     ]
    }
   ],
   "source": [
    "print(\"adding numbers using class method:\",\n",
    "      mathOperation.add_numbers(10,5))"
   ]
  },
  {
   "cell_type": "code",
   "execution_count": 36,
   "id": "5f5a1a6a-09f0-4d3f-94c8-5b9c7b0e0121",
   "metadata": {},
   "outputs": [
    {
     "name": "stdout",
     "output_type": "stream",
     "text": [
      "subtracting numbers using static method: 5\n"
     ]
    }
   ],
   "source": [
    "print(\"subtracting numbers using static method:\",\n",
    "      mathOperation.subtract_numbers(10,5))"
   ]
  },
  {
   "cell_type": "code",
   "execution_count": null,
   "id": "1ccb1cad-c5d1-4e6f-a9c6-3610f80e7590",
   "metadata": {},
   "outputs": [],
   "source": [
    "Q8. implement a class  person with a class method to count the total number of persons created."
   ]
  },
  {
   "cell_type": "code",
   "execution_count": null,
   "id": "6aa73a06-9954-47d2-9da4-ca7699d8c8f7",
   "metadata": {},
   "outputs": [],
   "source": [
    "ans."
   ]
  },
  {
   "cell_type": "code",
   "execution_count": 38,
   "id": "eec246bd-08a1-437c-90ef-bb0c272dd5a9",
   "metadata": {},
   "outputs": [
    {
     "name": "stdout",
     "output_type": "stream",
     "text": [
      "total persons created: 2\n"
     ]
    }
   ],
   "source": [
    "class person:\n",
    "    count = 0\n",
    "    def __init__(self,name):\n",
    "        self.name = name\n",
    "        person.count +=1\n",
    "    @classmethod\n",
    "    def total_persons(cls):\n",
    "        \"\"\"class method to return the total number of person instances created.\"\"\"\n",
    "        return cls.count\n",
    "person1 = person(\"alice\")\n",
    "person2 = person(\"bob\")\n",
    "print(\"total persons created:\", person.total_persons())\n",
    "        \n",
    "    \n",
    "        \n",
    "            "
   ]
  },
  {
   "cell_type": "code",
   "execution_count": null,
   "id": "a53f9c22-1f26-42bc-af78-77df8301a502",
   "metadata": {},
   "outputs": [],
   "source": [
    "Q9. write a class fraction with attributes numerator and denominator.\n",
    "override the str method to display the fraction as \"numerator/denominator\"."
   ]
  },
  {
   "cell_type": "code",
   "execution_count": null,
   "id": "81241af4-fd74-4ea9-817e-c427a85bfe17",
   "metadata": {},
   "outputs": [],
   "source": [
    "ans."
   ]
  },
  {
   "cell_type": "code",
   "execution_count": 39,
   "id": "6491af73-2aff-4ad3-a705-781c2243679c",
   "metadata": {},
   "outputs": [
    {
     "name": "stdout",
     "output_type": "stream",
     "text": [
      "3/4\n"
     ]
    }
   ],
   "source": [
    "class Fraction:\n",
    "    def __init__(self, numerator, denominator):\n",
    "        self.numerator = numerator\n",
    "        self.denominator = denominator\n",
    "\n",
    "    def __str__(self):\n",
    "        return f\"{self.numerator}/{self.denominator}\"\n",
    "\n",
    "fraction = Fraction(3,4)\n",
    "print(fraction)"
   ]
  },
  {
   "cell_type": "code",
   "execution_count": null,
   "id": "85c15e57-6f5c-41ad-bd56-680d78d56229",
   "metadata": {},
   "outputs": [],
   "source": [
    "Q10. demonstrate operator overloading by creating a class vector and overriding the add method to add two vectors."
   ]
  },
  {
   "cell_type": "code",
   "execution_count": null,
   "id": "ba6447f7-4473-4a48-8eaf-c6103b683645",
   "metadata": {},
   "outputs": [],
   "source": [
    "ans."
   ]
  },
  {
   "cell_type": "code",
   "execution_count": 40,
   "id": "2b46ab3f-f0b6-4576-ac4b-02311cbab7a1",
   "metadata": {},
   "outputs": [
    {
     "name": "stdout",
     "output_type": "stream",
     "text": [
      "(4, 6)\n"
     ]
    }
   ],
   "source": [
    "class Vector:\n",
    "    def __init__(self, x,y):\n",
    "        self.x = x\n",
    "        self.y = y\n",
    "\n",
    "    def __add__(self, other):\n",
    "        return Vector(self.x + other.x, self.y + other.y)\n",
    "\n",
    "    def __str__(self):\n",
    "        return f\"({self.x}, {self.y})\"\n",
    "\n",
    "v1 = Vector(1,2)\n",
    "v2 = Vector(3,4)\n",
    "v3 = v1 +v2\n",
    "print(v3)"
   ]
  },
  {
   "cell_type": "code",
   "execution_count": null,
   "id": "ac2eb8f3-b438-446b-bcd3-3e9efbd69969",
   "metadata": {},
   "outputs": [],
   "source": [
    "Q11. create a class person with attributes name and age. add a method greet() that prints \n",
    "\"Hello, my name is {name} and i am {age} years old.\""
   ]
  },
  {
   "cell_type": "code",
   "execution_count": null,
   "id": "71b90bfe-6344-448b-b71e-a71dd40b91e6",
   "metadata": {},
   "outputs": [],
   "source": [
    "ans."
   ]
  },
  {
   "cell_type": "code",
   "execution_count": 41,
   "id": "12f47220-7e39-4634-8420-7ca9992f1f18",
   "metadata": {},
   "outputs": [
    {
     "name": "stdout",
     "output_type": "stream",
     "text": [
      "Hello, my name is JYOTI and I am 26 years old.\n"
     ]
    }
   ],
   "source": [
    "class person:\n",
    "    def __init__(self, name, age):\n",
    "        self.name = name\n",
    "        self.age = age\n",
    "\n",
    "    def greet(self):\n",
    "        print(f\"Hello, my name is {self.name} and I am {self.age} years old.\")\n",
    "\n",
    "person = person(\"JYOTI\", 26)\n",
    "person.greet()"
   ]
  },
  {
   "cell_type": "code",
   "execution_count": null,
   "id": "93f6e637-cffb-4984-af86-57f6bdf3a9f4",
   "metadata": {},
   "outputs": [],
   "source": [
    "Q12. implement a class student with attributes name and grades. create a method average_grade() to compute the average of the grades."
   ]
  },
  {
   "cell_type": "code",
   "execution_count": null,
   "id": "d21fc70f-6e03-4eed-9e7a-9f186cf77490",
   "metadata": {},
   "outputs": [],
   "source": [
    "ans."
   ]
  },
  {
   "cell_type": "code",
   "execution_count": 43,
   "id": "fa55b9c6-220f-4cb7-864e-141949a825ef",
   "metadata": {},
   "outputs": [
    {
     "name": "stdout",
     "output_type": "stream",
     "text": [
      "the average grade of jyoti is: 86.6\n"
     ]
    }
   ],
   "source": [
    "class Student:\n",
    "    def __init__(self, name, grades):\n",
    "        self.name = name\n",
    "        self.grades = grades\n",
    "\n",
    "    def average_grade(self):\n",
    "        if not self.grades:\n",
    "            return 0\n",
    "        return sum(self.grades) / len(self.grades)\n",
    "\n",
    "student = Student(\"jyoti\", [85, 90, 78, 92, 88])\n",
    "print(\"the average grade of\" ,student.name, \"is:\" , student.average_grade())"
   ]
  },
  {
   "cell_type": "code",
   "execution_count": null,
   "id": "6cfd6c40-20d4-4931-97f0-3636c6fb7a0a",
   "metadata": {},
   "outputs": [],
   "source": [
    "Q13. create a class rectangle with methods set_dimensions() to set the dimensions and area() to calculate the area."
   ]
  },
  {
   "cell_type": "code",
   "execution_count": null,
   "id": "f6e143da-9df0-4fd3-9221-c48363a7e6b7",
   "metadata": {},
   "outputs": [],
   "source": [
    "ans."
   ]
  },
  {
   "cell_type": "code",
   "execution_count": 45,
   "id": "cad5229d-9396-4964-803a-c3df49b1f0a1",
   "metadata": {},
   "outputs": [
    {
     "name": "stdout",
     "output_type": "stream",
     "text": [
      "Area of the rectangle: 20\n"
     ]
    }
   ],
   "source": [
    "class Rectangle:\n",
    "    def __init__(self):\n",
    "        self.width = 0\n",
    "        self.height = 0 \n",
    "    def set_dimensions(self, width, height):\n",
    "        self.width = width\n",
    "        self.height = height\n",
    "    def area(self):\n",
    "        return self.width * self.height\n",
    "\n",
    "# Example usage\n",
    "rectangle = Rectangle()\n",
    "rectangle.set_dimensions(4,5)\n",
    "print(f\"Area of the rectangle: {rectangle.area()}\")"
   ]
  },
  {
   "cell_type": "code",
   "execution_count": null,
   "id": "a8972425-3ce2-4fec-82cf-a6fdd68d3bbc",
   "metadata": {},
   "outputs": [],
   "source": [
    "Q14. create a class employee with a method calculate_salary() that computes the salary based on hours worked and hourly rate .\n",
    "create a derived class manager that adds a bonus to the salary."
   ]
  },
  {
   "cell_type": "code",
   "execution_count": null,
   "id": "92316339-35d3-47d7-8835-e5b489a8a042",
   "metadata": {},
   "outputs": [],
   "source": [
    "ans."
   ]
  },
  {
   "cell_type": "code",
   "execution_count": 48,
   "id": "7a0f6777-56c9-44d5-bbe9-6e9dc1afa69e",
   "metadata": {},
   "outputs": [
    {
     "name": "stdout",
     "output_type": "stream",
     "text": [
      "Employee salary: 800\n",
      "\n",
      "Manager Salary: 1700\n"
     ]
    }
   ],
   "source": [
    "class Employee:\n",
    "    def __init__(self, name, hours_worked, hourly_rate):\n",
    "        self.name = name\n",
    "        self.hours_worked = hours_worked\n",
    "        self.hourly_rate = hourly_rate\n",
    "\n",
    "    def calculate_salary(self):\n",
    "        return self.hours_worked * self.hourly_rate\n",
    "\n",
    "class Manager(Employee):\n",
    "    def __init__(self, name, hours_worked, hourly_rate, bonus):\n",
    "        super().__init__(name, hours_worked, hourly_rate)\n",
    "        self.bonus = bonus\n",
    "\n",
    "    def calculate_salary(self):\n",
    "        return super().calculate_salary() + self.bonus\n",
    "\n",
    "employee = Employee(\"jyoti\", 40, 20)\n",
    "print(\"Employee salary:\" , employee.calculate_salary())\n",
    "print()\n",
    "manager = Manager(\"pankaj\", 40, 30, 500)\n",
    "print(\"Manager Salary:\" , manager.calculate_salary())\n",
    "\n"
   ]
  },
  {
   "cell_type": "code",
   "execution_count": null,
   "id": "a707a1ce-9684-434c-8ff3-d9debf9394c1",
   "metadata": {},
   "outputs": [],
   "source": [
    "Q15. create a class product with attributes name , price, and quantity.\n",
    "implement a method total_price() that calculates the total price of the product."
   ]
  },
  {
   "cell_type": "code",
   "execution_count": null,
   "id": "2af73d0e-7419-45a1-bf5a-f1f508369a78",
   "metadata": {},
   "outputs": [],
   "source": [
    "ans."
   ]
  },
  {
   "cell_type": "code",
   "execution_count": 49,
   "id": "c7f1ae82-376f-467f-8c46-6c62726eb3ba",
   "metadata": {},
   "outputs": [
    {
     "name": "stdout",
     "output_type": "stream",
     "text": [
      "100000\n"
     ]
    }
   ],
   "source": [
    "class Product:\n",
    "    def __init__(self, name, price, quantity):\n",
    "        self.name = name\n",
    "        self.price = price\n",
    "        self.quantity = quantity\n",
    "\n",
    "    def total_price(self):\n",
    "        return self.price *self.quantity\n",
    "\n",
    "product = Product(\"Laptop\" , 50000, 2)\n",
    "print(product.total_price())"
   ]
  },
  {
   "cell_type": "code",
   "execution_count": null,
   "id": "f4b4e74b-0c57-4f0c-baee-27581629365b",
   "metadata": {},
   "outputs": [],
   "source": [
    "Q16. create a class Animal with an abstract method sound().\n",
    "create two derived classes Cow and Sheep that implement the sound() method."
   ]
  },
  {
   "cell_type": "code",
   "execution_count": null,
   "id": "a3f7a440-9b2c-4e5e-ac9d-1d8261e20250",
   "metadata": {},
   "outputs": [],
   "source": [
    "ans."
   ]
  },
  {
   "cell_type": "code",
   "execution_count": 52,
   "id": "e3826cd0-4dd1-49df-abc6-1f707159e194",
   "metadata": {},
   "outputs": [
    {
     "name": "stdout",
     "output_type": "stream",
     "text": [
      "Cow sound: Mauhh\n",
      "Sheep sound: Beahhhh\n"
     ]
    }
   ],
   "source": [
    "from abc import ABC , abstractmethod\n",
    "\n",
    "class Animal(ABC):\n",
    "    @abstractmethod\n",
    "    def sound(self):\n",
    "        pass\n",
    "\n",
    "class Cow(Animal):\n",
    "    def sound(self):\n",
    "        return \"Mauhh\"\n",
    "\n",
    "class Sheep(Animal):\n",
    "    def sound(self):\n",
    "        return \"Beahhhh\"\n",
    "\n",
    "# Example usage \n",
    "cow = Cow()\n",
    "sheep = Sheep()\n",
    "\n",
    "print(f\"Cow sound: {cow.sound()}\")\n",
    "print(f\"Sheep sound: {sheep.sound()}\")"
   ]
  },
  {
   "cell_type": "code",
   "execution_count": null,
   "id": "78f3a212-fb6e-4fd9-9df5-dc5803d7ff72",
   "metadata": {},
   "outputs": [],
   "source": [
    "Q17.  create a class book with attributes title,author,and year_published.\n",
    "add a method get_book_info() that returns a formatted string with the book's details."
   ]
  },
  {
   "cell_type": "code",
   "execution_count": null,
   "id": "f3c6f58f-78ec-4e59-9444-13976ab898dd",
   "metadata": {},
   "outputs": [],
   "source": [
    "ans."
   ]
  },
  {
   "cell_type": "code",
   "execution_count": 53,
   "id": "463e2308-445d-47fd-a327-faf2cb5ac2ae",
   "metadata": {},
   "outputs": [
    {
     "name": "stdout",
     "output_type": "stream",
     "text": [
      "Title: Don Quixote, Author: miguel de Cervants, Year published: 1605\n"
     ]
    }
   ],
   "source": [
    "class Book:\n",
    "    def __init__(self, title: str, author: str, year_published: int):\n",
    "        self.title = title\n",
    "        self.author = author\n",
    "        self.year_published = year_published\n",
    "\n",
    "    def get_book_info(self) -> str:\n",
    "        return f\"Title: {self.title}, Author: {self.author}, Year published: {self.year_published}\"\n",
    "\n",
    "book = Book(\"Don Quixote\", \"miguel de Cervants\", 1605)\n",
    "print(book.get_book_info())"
   ]
  },
  {
   "cell_type": "code",
   "execution_count": null,
   "id": "a9f30623-ef0b-454c-abfa-7dfb8811a6df",
   "metadata": {},
   "outputs": [],
   "source": [
    "Q18. create a class house with attributes address and price.\n",
    "create derived class mansion that adds an attribute nimber_of_rooms."
   ]
  },
  {
   "cell_type": "code",
   "execution_count": null,
   "id": "18efac8d-170e-4b52-b7df-fe0ef3d34624",
   "metadata": {},
   "outputs": [],
   "source": [
    "ans."
   ]
  },
  {
   "cell_type": "code",
   "execution_count": 55,
   "id": "7973cc0d-9919-4cbb-ae3e-a9c3b82d4523",
   "metadata": {},
   "outputs": [
    {
     "name": "stdout",
     "output_type": "stream",
     "text": [
      "House address: Gomti Nagar, price: ₹10000\n",
      "Mansion address: Hazratgnj, price: ₹50000, number of rooms: 10\n"
     ]
    }
   ],
   "source": [
    "class House:\n",
    "    def __init__(self, address, price):\n",
    "        self.address = address\n",
    "        self.price = price\n",
    "\n",
    "class Mansion(House):\n",
    "    def __init__(self, address, price, number_of_rooms):\n",
    "        super().__init__(address, price)\n",
    "        self.number_of_rooms = number_of_rooms\n",
    "\n",
    "# Example usage\n",
    "house = House(\"Gomti Nagar\", 10000)\n",
    "mansion = Mansion(\"Hazratgnj\", 50000, 10)\n",
    "\n",
    "print(f\"House address: {house.address}, price: ₹{house.price}\")\n",
    "print(f\"Mansion address: {mansion.address}, price: ₹{mansion.price}, number of rooms: {mansion.number_of_rooms}\")"
   ]
  },
  {
   "cell_type": "code",
   "execution_count": null,
   "id": "2185b13f-ecc1-46e5-93aa-a15526ada3a4",
   "metadata": {},
   "outputs": [],
   "source": []
  },
  {
   "cell_type": "code",
   "execution_count": null,
   "id": "5c542e9b-2bd3-4e84-ba6b-22de8a7bffc9",
   "metadata": {},
   "outputs": [],
   "source": []
  },
  {
   "cell_type": "code",
   "execution_count": null,
   "id": "b2ab1d44-5dbc-4e53-b102-3545575af1e7",
   "metadata": {},
   "outputs": [],
   "source": []
  },
  {
   "cell_type": "code",
   "execution_count": null,
   "id": "9aedede4-0735-4e95-a97d-c788cc734ddb",
   "metadata": {},
   "outputs": [],
   "source": []
  }
 ],
 "metadata": {
  "kernelspec": {
   "display_name": "Python 3 (ipykernel)",
   "language": "python",
   "name": "python3"
  },
  "language_info": {
   "codemirror_mode": {
    "name": "ipython",
    "version": 3
   },
   "file_extension": ".py",
   "mimetype": "text/x-python",
   "name": "python",
   "nbconvert_exporter": "python",
   "pygments_lexer": "ipython3",
   "version": "3.12.7"
  }
 },
 "nbformat": 4,
 "nbformat_minor": 5
}
